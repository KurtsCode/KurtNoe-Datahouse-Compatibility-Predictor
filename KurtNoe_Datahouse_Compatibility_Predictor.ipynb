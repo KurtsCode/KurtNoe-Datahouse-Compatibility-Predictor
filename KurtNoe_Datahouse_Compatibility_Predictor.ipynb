{
 "cells": [
  {
   "cell_type": "code",
   "execution_count": 2,
   "metadata": {},
   "outputs": [],
   "source": [
    "def ProcessApplicants(memData):\n",
    "    applicantDict = {}\n",
    "    teamDict = {}\n",
    "    resultList = []\n",
    "    \n",
    "    intWeight = 0\n",
    "    strWeight = 0 \n",
    "    endWeight = 0 \n",
    "    sftWeight = 0 \n",
    "    \n",
    "    intScoreTeam = 0\n",
    "    strScoreTeam = 0\n",
    "    endScoreTeam = 0\n",
    "    sftScoreTeam = 0\n",
    "    \n",
    "    teamSize = 0\n",
    "    \n",
    "    # Create object to store json output\n",
    "    data = {\n",
    "        'scoredApplicants':[\n",
    "        ]\n",
    "    }\n",
    "    \n",
    "    # Iterate through the team values to determine what the cumulative score of the team is for each stat.\n",
    "    for i in memData['team']:\n",
    "        teamDict[i['name']] = [i['attributes']['intelligence'], i['attributes']['strength'], \n",
    "                            i['attributes']['endurance'], i['attributes']['spicyFoodTolerance']]\n",
    "        \n",
    "        intScoreTeam = intScoreTeam + i['attributes']['intelligence']\n",
    "        strScoreTeam = strScoreTeam + i['attributes']['strength']\n",
    "        endScoreTeam = endScoreTeam + i['attributes']['endurance']\n",
    "        sftScoreTeam = sftScoreTeam + i['attributes']['spicyFoodTolerance']\n",
    "        \n",
    "        teamSize +=1\n",
    "        \n",
    "    \n",
    "    # Determine the maximum possible overall score of the current team based on team size \n",
    "    # and use this to determine the weights of each applicants stats based on how much the team is lacking in each stat.\n",
    "    maxTeamStat = 10 * teamSize\n",
    "    \n",
    "    intDiff = maxTeamStat - intScoreTeam \n",
    "    strDiff = maxTeamStat - strScoreTeam\n",
    "    endDiff = maxTeamStat - endScoreTeam\n",
    "    sftDiff = maxTeamStat - sftScoreTeam\n",
    "    \n",
    "    intWeight = intDiff / maxTeamStat\n",
    "    strWeight = strDiff / maxTeamStat\n",
    "    endWeight = endDiff / maxTeamStat\n",
    "    sftWeight = sftDiff / maxTeamStat\n",
    "\n",
    "    \n",
    "    # Calculate the combined total possible score of all stats based on their determined weights.\n",
    "    # To be used ot calculate final score.\n",
    "    totalPossScore = (10 * intWeight) + (10 * strWeight) + (10 * endWeight) + (10 * sftWeight)\n",
    "       \n",
    "    # Iterate through the applicants and apply weights and other values to calculate the final appraisal score for each applicant.\n",
    "    # Store the results to an object that will be written to a JSON file as output. \n",
    "    for i in memData['applicants']:\n",
    "        print(\"Name:\", i['name'])\n",
    "        print(\"Attributes:\", i['attributes'])\n",
    "        print(\"Intelligence:\", i['attributes']['intelligence'])\n",
    "        print(\"Strength:\", i['attributes']['strength'])\n",
    "        print(\"Endurance:\", i['attributes']['endurance'])\n",
    "        print(\"Spicy Food Tolerance:\", i['attributes']['spicyFoodTolerance'])\n",
    "        print(\"\\n\")\n",
    "    \n",
    "        applicantDict[i['name']] = [i['attributes']['intelligence'], i['attributes']['strength'], \n",
    "                                i['attributes']['endurance'], i['attributes']['spicyFoodTolerance']]\n",
    "        \n",
    "        intMeasure = (i['attributes']['intelligence'] * intWeight)\n",
    "        strMeasure = (i['attributes']['strength'] * strWeight)\n",
    "        endMeasure = (i['attributes']['endurance'] * endWeight)\n",
    "        sftMeasure = (i['attributes']['spicyFoodTolerance'] * sftWeight)\n",
    "        \n",
    "        totalStats = intMeasure + strMeasure + endMeasure + sftMeasure\n",
    "        \n",
    "        finalMeasure = round((totalStats / totalPossScore),2)\n",
    "        resultList.append(finalMeasure)\n",
    "        \n",
    "        data['scoredApplicants'].append({\"name\":i['name'], \"score\":finalMeasure})\n",
    "    \n",
    "    with open('app_scores.json','w') as outfile:\n",
    "        json.dump(data, outfile)"
   ]
  },
  {
   "cell_type": "code",
   "execution_count": 7,
   "metadata": {},
   "outputs": [
    {
     "name": "stdout",
     "output_type": "stream",
     "text": [
      "C:\\Users\\krt78\\Jupyter_Files\n"
     ]
    }
   ],
   "source": [
    "import json\n",
    "import os\n",
    "\n",
    "directory = os.getcwd()\n",
    "print(directory)\n",
    "\n",
    "memFile = open('memberList.json')\n",
    "memData = json.load(memFile)\n",
    "\n",
    "memFile.close()"
   ]
  },
  {
   "cell_type": "code",
   "execution_count": 4,
   "metadata": {},
   "outputs": [
    {
     "name": "stdout",
     "output_type": "stream",
     "text": [
      "Name: John\n",
      "Attributes: {'intelligence': 4, 'strength': 5, 'endurance': 2, 'spicyFoodTolerance': 1}\n",
      "Intelligence: 4\n",
      "Strength: 5\n",
      "Endurance: 2\n",
      "Spicy Food Tolerance: 1\n",
      "\n",
      "\n",
      "Name: Jane\n",
      "Attributes: {'intelligence': 7, 'strength': 4, 'endurance': 3, 'spicyFoodTolerance': 2}\n",
      "Intelligence: 7\n",
      "Strength: 4\n",
      "Endurance: 3\n",
      "Spicy Food Tolerance: 2\n",
      "\n",
      "\n",
      "Name: Joe\n",
      "Attributes: {'intelligence': 1, 'strength': 1, 'endurance': 1, 'spicyFoodTolerance': 10}\n",
      "Intelligence: 1\n",
      "Strength: 1\n",
      "Endurance: 1\n",
      "Spicy Food Tolerance: 10\n",
      "\n",
      "\n"
     ]
    }
   ],
   "source": [
    "ProcessApplicants(memData)"
   ]
  },
  {
   "cell_type": "code",
   "execution_count": null,
   "metadata": {},
   "outputs": [],
   "source": []
  }
 ],
 "metadata": {
  "kernelspec": {
   "display_name": "Python 3",
   "language": "python",
   "name": "python3"
  },
  "language_info": {
   "codemirror_mode": {
    "name": "ipython",
    "version": 3
   },
   "file_extension": ".py",
   "mimetype": "text/x-python",
   "name": "python",
   "nbconvert_exporter": "python",
   "pygments_lexer": "ipython3",
   "version": "3.8.3"
  }
 },
 "nbformat": 4,
 "nbformat_minor": 4
}
